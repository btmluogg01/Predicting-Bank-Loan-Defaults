{
 "cells": [
  {
   "cell_type": "code",
   "execution_count": 1,
   "metadata": {},
   "outputs": [],
   "source": [
    "import numpy as np\n",
    "import pandas as pd\n",
    "import matplotlib.pyplot as plt\n",
    "import seaborn as sns"
   ]
  },
  {
   "cell_type": "code",
   "execution_count": 2,
   "metadata": {},
   "outputs": [
    {
     "data": {
      "text/html": [
       "<div>\n",
       "<style scoped>\n",
       "    .dataframe tbody tr th:only-of-type {\n",
       "        vertical-align: middle;\n",
       "    }\n",
       "\n",
       "    .dataframe tbody tr th {\n",
       "        vertical-align: top;\n",
       "    }\n",
       "\n",
       "    .dataframe thead th {\n",
       "        text-align: right;\n",
       "    }\n",
       "</style>\n",
       "<table border=\"1\" class=\"dataframe\">\n",
       "  <thead>\n",
       "    <tr style=\"text-align: right;\">\n",
       "      <th></th>\n",
       "      <th>id</th>\n",
       "      <th>year</th>\n",
       "      <th>issue_d</th>\n",
       "      <th>final_d</th>\n",
       "      <th>emp_length_int</th>\n",
       "      <th>home_ownership</th>\n",
       "      <th>home_ownership_cat</th>\n",
       "      <th>income_category</th>\n",
       "      <th>annual_inc</th>\n",
       "      <th>income_cat</th>\n",
       "      <th>...</th>\n",
       "      <th>loan_condition_cat</th>\n",
       "      <th>interest_rate</th>\n",
       "      <th>grade</th>\n",
       "      <th>grade_cat</th>\n",
       "      <th>dti</th>\n",
       "      <th>total_pymnt</th>\n",
       "      <th>total_rec_prncp</th>\n",
       "      <th>recoveries</th>\n",
       "      <th>installment</th>\n",
       "      <th>region</th>\n",
       "    </tr>\n",
       "  </thead>\n",
       "  <tbody>\n",
       "    <tr>\n",
       "      <th>0</th>\n",
       "      <td>1077501</td>\n",
       "      <td>2011</td>\n",
       "      <td>01/12/2011</td>\n",
       "      <td>1012015</td>\n",
       "      <td>10.0</td>\n",
       "      <td>RENT</td>\n",
       "      <td>1</td>\n",
       "      <td>Low</td>\n",
       "      <td>24000</td>\n",
       "      <td>1</td>\n",
       "      <td>...</td>\n",
       "      <td>0</td>\n",
       "      <td>10.65</td>\n",
       "      <td>B</td>\n",
       "      <td>2</td>\n",
       "      <td>27.65</td>\n",
       "      <td>5861.071414</td>\n",
       "      <td>5000.00</td>\n",
       "      <td>0.00</td>\n",
       "      <td>162.87</td>\n",
       "      <td>munster</td>\n",
       "    </tr>\n",
       "    <tr>\n",
       "      <th>1</th>\n",
       "      <td>1077430</td>\n",
       "      <td>2011</td>\n",
       "      <td>01/12/2011</td>\n",
       "      <td>1042013</td>\n",
       "      <td>0.5</td>\n",
       "      <td>RENT</td>\n",
       "      <td>1</td>\n",
       "      <td>Low</td>\n",
       "      <td>30000</td>\n",
       "      <td>1</td>\n",
       "      <td>...</td>\n",
       "      <td>1</td>\n",
       "      <td>15.27</td>\n",
       "      <td>C</td>\n",
       "      <td>3</td>\n",
       "      <td>1.00</td>\n",
       "      <td>1008.710000</td>\n",
       "      <td>456.46</td>\n",
       "      <td>117.08</td>\n",
       "      <td>59.83</td>\n",
       "      <td>leinster</td>\n",
       "    </tr>\n",
       "    <tr>\n",
       "      <th>2</th>\n",
       "      <td>1077175</td>\n",
       "      <td>2011</td>\n",
       "      <td>01/12/2011</td>\n",
       "      <td>1062014</td>\n",
       "      <td>10.0</td>\n",
       "      <td>RENT</td>\n",
       "      <td>1</td>\n",
       "      <td>Low</td>\n",
       "      <td>12252</td>\n",
       "      <td>1</td>\n",
       "      <td>...</td>\n",
       "      <td>0</td>\n",
       "      <td>15.96</td>\n",
       "      <td>C</td>\n",
       "      <td>3</td>\n",
       "      <td>8.72</td>\n",
       "      <td>3003.653644</td>\n",
       "      <td>2400.00</td>\n",
       "      <td>0.00</td>\n",
       "      <td>84.33</td>\n",
       "      <td>cannught</td>\n",
       "    </tr>\n",
       "    <tr>\n",
       "      <th>3</th>\n",
       "      <td>1076863</td>\n",
       "      <td>2011</td>\n",
       "      <td>01/12/2011</td>\n",
       "      <td>1012015</td>\n",
       "      <td>10.0</td>\n",
       "      <td>RENT</td>\n",
       "      <td>1</td>\n",
       "      <td>Low</td>\n",
       "      <td>49200</td>\n",
       "      <td>1</td>\n",
       "      <td>...</td>\n",
       "      <td>0</td>\n",
       "      <td>13.49</td>\n",
       "      <td>C</td>\n",
       "      <td>3</td>\n",
       "      <td>20.00</td>\n",
       "      <td>12226.302210</td>\n",
       "      <td>10000.00</td>\n",
       "      <td>0.00</td>\n",
       "      <td>339.31</td>\n",
       "      <td>ulster</td>\n",
       "    </tr>\n",
       "    <tr>\n",
       "      <th>4</th>\n",
       "      <td>1075358</td>\n",
       "      <td>2011</td>\n",
       "      <td>01/12/2011</td>\n",
       "      <td>1012016</td>\n",
       "      <td>1.0</td>\n",
       "      <td>RENT</td>\n",
       "      <td>1</td>\n",
       "      <td>Low</td>\n",
       "      <td>80000</td>\n",
       "      <td>1</td>\n",
       "      <td>...</td>\n",
       "      <td>0</td>\n",
       "      <td>12.69</td>\n",
       "      <td>B</td>\n",
       "      <td>2</td>\n",
       "      <td>17.94</td>\n",
       "      <td>3242.170000</td>\n",
       "      <td>2233.10</td>\n",
       "      <td>0.00</td>\n",
       "      <td>67.79</td>\n",
       "      <td>ulster</td>\n",
       "    </tr>\n",
       "  </tbody>\n",
       "</table>\n",
       "<p>5 rows × 30 columns</p>\n",
       "</div>"
      ],
      "text/plain": [
       "        id  year     issue_d  final_d  emp_length_int home_ownership  \\\n",
       "0  1077501  2011  01/12/2011  1012015            10.0           RENT   \n",
       "1  1077430  2011  01/12/2011  1042013             0.5           RENT   \n",
       "2  1077175  2011  01/12/2011  1062014            10.0           RENT   \n",
       "3  1076863  2011  01/12/2011  1012015            10.0           RENT   \n",
       "4  1075358  2011  01/12/2011  1012016             1.0           RENT   \n",
       "\n",
       "   home_ownership_cat income_category  annual_inc  income_cat    ...     \\\n",
       "0                   1             Low       24000           1    ...      \n",
       "1                   1             Low       30000           1    ...      \n",
       "2                   1             Low       12252           1    ...      \n",
       "3                   1             Low       49200           1    ...      \n",
       "4                   1             Low       80000           1    ...      \n",
       "\n",
       "   loan_condition_cat interest_rate  grade grade_cat    dti   total_pymnt  \\\n",
       "0                   0         10.65      B         2  27.65   5861.071414   \n",
       "1                   1         15.27      C         3   1.00   1008.710000   \n",
       "2                   0         15.96      C         3   8.72   3003.653644   \n",
       "3                   0         13.49      C         3  20.00  12226.302210   \n",
       "4                   0         12.69      B         2  17.94   3242.170000   \n",
       "\n",
       "   total_rec_prncp recoveries  installment    region  \n",
       "0          5000.00       0.00       162.87   munster  \n",
       "1           456.46     117.08        59.83  leinster  \n",
       "2          2400.00       0.00        84.33  cannught  \n",
       "3         10000.00       0.00       339.31    ulster  \n",
       "4          2233.10       0.00        67.79    ulster  \n",
       "\n",
       "[5 rows x 30 columns]"
      ]
     },
     "execution_count": 2,
     "metadata": {},
     "output_type": "execute_result"
    }
   ],
   "source": [
    "df = pd.read_csv('loan_final313.csv')\n",
    "df.head()"
   ]
  },
  {
   "cell_type": "code",
   "execution_count": 3,
   "metadata": {},
   "outputs": [
    {
     "data": {
      "text/plain": [
       "(887379, 30)"
      ]
     },
     "execution_count": 3,
     "metadata": {},
     "output_type": "execute_result"
    }
   ],
   "source": [
    "df.shape"
   ]
  },
  {
   "cell_type": "code",
   "execution_count": 4,
   "metadata": {},
   "outputs": [
    {
     "data": {
      "text/plain": [
       "Index(['id', 'year', 'issue_d', 'final_d', 'emp_length_int', 'home_ownership',\n",
       "       'home_ownership_cat', 'income_category', 'annual_inc', 'income_cat',\n",
       "       'loan_amount', 'term', 'term_cat', 'application_type',\n",
       "       'application_type_cat', 'purpose', 'purpose_cat', 'interest_payments',\n",
       "       'interest_payment_cat', 'loan_condition', 'loan_condition_cat',\n",
       "       'interest_rate', 'grade', 'grade_cat', 'dti', 'total_pymnt',\n",
       "       'total_rec_prncp', 'recoveries', 'installment', 'region'],\n",
       "      dtype='object')"
      ]
     },
     "execution_count": 4,
     "metadata": {},
     "output_type": "execute_result"
    }
   ],
   "source": [
    "df.columns"
   ]
  },
  {
   "cell_type": "code",
   "execution_count": 5,
   "metadata": {},
   "outputs": [
    {
     "data": {
      "text/plain": [
       "id                      0\n",
       "year                    0\n",
       "issue_d                 0\n",
       "final_d                 0\n",
       "emp_length_int          0\n",
       "home_ownership          0\n",
       "home_ownership_cat      0\n",
       "income_category         0\n",
       "annual_inc              0\n",
       "income_cat              0\n",
       "loan_amount             0\n",
       "term                    0\n",
       "term_cat                0\n",
       "application_type        0\n",
       "application_type_cat    0\n",
       "purpose                 0\n",
       "purpose_cat             0\n",
       "interest_payments       0\n",
       "interest_payment_cat    0\n",
       "loan_condition          0\n",
       "loan_condition_cat      0\n",
       "interest_rate           0\n",
       "grade                   0\n",
       "grade_cat               0\n",
       "dti                     0\n",
       "total_pymnt             0\n",
       "total_rec_prncp         0\n",
       "recoveries              0\n",
       "installment             0\n",
       "region                  0\n",
       "dtype: int64"
      ]
     },
     "execution_count": 5,
     "metadata": {},
     "output_type": "execute_result"
    }
   ],
   "source": [
    "df.isnull().sum()"
   ]
  },
  {
   "cell_type": "code",
   "execution_count": 6,
   "metadata": {},
   "outputs": [
    {
     "data": {
      "text/plain": [
       "Good Loan    819950\n",
       "Bad Loan      67429\n",
       "Name: loan_condition, dtype: int64"
      ]
     },
     "execution_count": 6,
     "metadata": {},
     "output_type": "execute_result"
    }
   ],
   "source": [
    "df.loan_condition.value_counts()"
   ]
  },
  {
   "cell_type": "code",
   "execution_count": 7,
   "metadata": {},
   "outputs": [],
   "source": [
    "df['target'] = df.loan_condition.apply(lambda x: 1 if x == 'Bad Loan' else 0)"
   ]
  },
  {
   "cell_type": "code",
   "execution_count": 8,
   "metadata": {},
   "outputs": [
    {
     "data": {
      "text/plain": [
       "Good Loan    819950\n",
       "Bad Loan      67429\n",
       "Name: loan_condition, dtype: int64"
      ]
     },
     "execution_count": 8,
     "metadata": {},
     "output_type": "execute_result"
    }
   ],
   "source": [
    "df.loan_condition.value_counts()"
   ]
  },
  {
   "cell_type": "code",
   "execution_count": 9,
   "metadata": {},
   "outputs": [],
   "source": [
    "df3 = df.loc[df['grade'] == 'G']"
   ]
  },
  {
   "cell_type": "code",
   "execution_count": 10,
   "metadata": {},
   "outputs": [
    {
     "data": {
      "text/html": [
       "<div>\n",
       "<style scoped>\n",
       "    .dataframe tbody tr th:only-of-type {\n",
       "        vertical-align: middle;\n",
       "    }\n",
       "\n",
       "    .dataframe tbody tr th {\n",
       "        vertical-align: top;\n",
       "    }\n",
       "\n",
       "    .dataframe thead th {\n",
       "        text-align: right;\n",
       "    }\n",
       "</style>\n",
       "<table border=\"1\" class=\"dataframe\">\n",
       "  <thead>\n",
       "    <tr style=\"text-align: right;\">\n",
       "      <th></th>\n",
       "      <th>id</th>\n",
       "      <th>year</th>\n",
       "      <th>issue_d</th>\n",
       "      <th>final_d</th>\n",
       "      <th>emp_length_int</th>\n",
       "      <th>home_ownership</th>\n",
       "      <th>home_ownership_cat</th>\n",
       "      <th>income_category</th>\n",
       "      <th>annual_inc</th>\n",
       "      <th>income_cat</th>\n",
       "      <th>...</th>\n",
       "      <th>interest_rate</th>\n",
       "      <th>grade</th>\n",
       "      <th>grade_cat</th>\n",
       "      <th>dti</th>\n",
       "      <th>total_pymnt</th>\n",
       "      <th>total_rec_prncp</th>\n",
       "      <th>recoveries</th>\n",
       "      <th>installment</th>\n",
       "      <th>region</th>\n",
       "      <th>target</th>\n",
       "    </tr>\n",
       "  </thead>\n",
       "  <tbody>\n",
       "    <tr>\n",
       "      <th>223</th>\n",
       "      <td>1060644</td>\n",
       "      <td>2011</td>\n",
       "      <td>01/12/2011</td>\n",
       "      <td>1122012</td>\n",
       "      <td>7.0</td>\n",
       "      <td>MORTGAGE</td>\n",
       "      <td>3</td>\n",
       "      <td>Medium</td>\n",
       "      <td>120000</td>\n",
       "      <td>2</td>\n",
       "      <td>...</td>\n",
       "      <td>23.91</td>\n",
       "      <td>G</td>\n",
       "      <td>7</td>\n",
       "      <td>12.96</td>\n",
       "      <td>22188.25000</td>\n",
       "      <td>18100.00</td>\n",
       "      <td>0.00</td>\n",
       "      <td>519.76</td>\n",
       "      <td>munster</td>\n",
       "      <td>0</td>\n",
       "    </tr>\n",
       "    <tr>\n",
       "      <th>540</th>\n",
       "      <td>1062756</td>\n",
       "      <td>2011</td>\n",
       "      <td>01/12/2011</td>\n",
       "      <td>1122015</td>\n",
       "      <td>10.0</td>\n",
       "      <td>RENT</td>\n",
       "      <td>1</td>\n",
       "      <td>Low</td>\n",
       "      <td>61000</td>\n",
       "      <td>1</td>\n",
       "      <td>...</td>\n",
       "      <td>23.52</td>\n",
       "      <td>G</td>\n",
       "      <td>7</td>\n",
       "      <td>11.65</td>\n",
       "      <td>17752.76000</td>\n",
       "      <td>9064.08</td>\n",
       "      <td>0.00</td>\n",
       "      <td>370.38</td>\n",
       "      <td>Northern-Irl</td>\n",
       "      <td>0</td>\n",
       "    </tr>\n",
       "    <tr>\n",
       "      <th>602</th>\n",
       "      <td>1058624</td>\n",
       "      <td>2011</td>\n",
       "      <td>01/12/2011</td>\n",
       "      <td>1012014</td>\n",
       "      <td>5.0</td>\n",
       "      <td>RENT</td>\n",
       "      <td>1</td>\n",
       "      <td>Low</td>\n",
       "      <td>40000</td>\n",
       "      <td>1</td>\n",
       "      <td>...</td>\n",
       "      <td>23.13</td>\n",
       "      <td>G</td>\n",
       "      <td>7</td>\n",
       "      <td>20.88</td>\n",
       "      <td>8530.26000</td>\n",
       "      <td>2444.99</td>\n",
       "      <td>1482.67</td>\n",
       "      <td>349.79</td>\n",
       "      <td>leinster</td>\n",
       "      <td>1</td>\n",
       "    </tr>\n",
       "    <tr>\n",
       "      <th>618</th>\n",
       "      <td>1061914</td>\n",
       "      <td>2011</td>\n",
       "      <td>01/12/2011</td>\n",
       "      <td>1062015</td>\n",
       "      <td>6.0</td>\n",
       "      <td>RENT</td>\n",
       "      <td>1</td>\n",
       "      <td>Low</td>\n",
       "      <td>85000</td>\n",
       "      <td>1</td>\n",
       "      <td>...</td>\n",
       "      <td>22.74</td>\n",
       "      <td>G</td>\n",
       "      <td>7</td>\n",
       "      <td>7.02</td>\n",
       "      <td>26376.52000</td>\n",
       "      <td>12893.89</td>\n",
       "      <td>0.00</td>\n",
       "      <td>628.13</td>\n",
       "      <td>Northern-Irl</td>\n",
       "      <td>1</td>\n",
       "    </tr>\n",
       "    <tr>\n",
       "      <th>735</th>\n",
       "      <td>1060753</td>\n",
       "      <td>2011</td>\n",
       "      <td>01/12/2011</td>\n",
       "      <td>1042015</td>\n",
       "      <td>4.0</td>\n",
       "      <td>RENT</td>\n",
       "      <td>1</td>\n",
       "      <td>Low</td>\n",
       "      <td>60000</td>\n",
       "      <td>1</td>\n",
       "      <td>...</td>\n",
       "      <td>23.91</td>\n",
       "      <td>G</td>\n",
       "      <td>7</td>\n",
       "      <td>17.74</td>\n",
       "      <td>37785.28111</td>\n",
       "      <td>24925.00</td>\n",
       "      <td>0.00</td>\n",
       "      <td>715.75</td>\n",
       "      <td>leinster</td>\n",
       "      <td>0</td>\n",
       "    </tr>\n",
       "  </tbody>\n",
       "</table>\n",
       "<p>5 rows × 31 columns</p>\n",
       "</div>"
      ],
      "text/plain": [
       "          id  year     issue_d  final_d  emp_length_int home_ownership  \\\n",
       "223  1060644  2011  01/12/2011  1122012             7.0       MORTGAGE   \n",
       "540  1062756  2011  01/12/2011  1122015            10.0           RENT   \n",
       "602  1058624  2011  01/12/2011  1012014             5.0           RENT   \n",
       "618  1061914  2011  01/12/2011  1062015             6.0           RENT   \n",
       "735  1060753  2011  01/12/2011  1042015             4.0           RENT   \n",
       "\n",
       "     home_ownership_cat income_category  annual_inc  income_cat  ...    \\\n",
       "223                   3          Medium      120000           2  ...     \n",
       "540                   1             Low       61000           1  ...     \n",
       "602                   1             Low       40000           1  ...     \n",
       "618                   1             Low       85000           1  ...     \n",
       "735                   1             Low       60000           1  ...     \n",
       "\n",
       "     interest_rate grade  grade_cat    dti  total_pymnt total_rec_prncp  \\\n",
       "223          23.91     G          7  12.96  22188.25000        18100.00   \n",
       "540          23.52     G          7  11.65  17752.76000         9064.08   \n",
       "602          23.13     G          7  20.88   8530.26000         2444.99   \n",
       "618          22.74     G          7   7.02  26376.52000        12893.89   \n",
       "735          23.91     G          7  17.74  37785.28111        24925.00   \n",
       "\n",
       "     recoveries installment        region target  \n",
       "223        0.00      519.76       munster      0  \n",
       "540        0.00      370.38  Northern-Irl      0  \n",
       "602     1482.67      349.79      leinster      1  \n",
       "618        0.00      628.13  Northern-Irl      1  \n",
       "735        0.00      715.75      leinster      0  \n",
       "\n",
       "[5 rows x 31 columns]"
      ]
     },
     "execution_count": 10,
     "metadata": {},
     "output_type": "execute_result"
    }
   ],
   "source": [
    "df3.head()"
   ]
  },
  {
   "cell_type": "code",
   "execution_count": 11,
   "metadata": {},
   "outputs": [],
   "source": [
    "# Data Visualization\n",
    "## funcions\n",
    "def info_feature(feature):\n",
    "    unique = feature.value_counts()\n",
    "    percent = feature.value_counts()/len(feature)*100\n",
    "    print('Count\\n',unique)\n",
    "    print('\\nPercent\\n',percent)\n",
    "    \n",
    "def info_range_feat(feature):\n",
    "    max = feature.max()\n",
    "    min = feature.min()\n",
    "    range = [min,max]\n",
    "    print('max',max)\n",
    "    print('min',min)\n",
    "    print('range', range)\n",
    "    return\n",
    "    \n",
    "def outlier(feature):\n",
    "    Q1 = np.percentile(feature, 25,\n",
    "                   interpolation = 'midpoint')\n",
    " \n",
    "    Q3 = np.percentile(feature, 75,\n",
    "                   interpolation = 'midpoint')\n",
    "    IQR = Q3 - Q1\n",
    "  # Upper bound\n",
    "    upper = np.where(feature >= (Q3+1.5*IQR))\n",
    "  # Lower bound\n",
    "    lower = np.where(feature <= (Q1-1.5*IQR))\n",
    "    return sns.boxplot(feature)\n",
    "\n",
    "def plot(feat,t):\n",
    "    plt.subplots(figsize =(10, 6))\n",
    "    sns.countplot(data = df, y = feat)\n",
    "    plt.title(t)\n",
    "    plt.show()\n",
    "    \n",
    "def plot_feat(str_feat):\n",
    "    f,ax=plt.subplots(1,2,figsize=(18,8))\n",
    "    df[str_feat].value_counts().plot.pie(explode=[0,0.1],autopct='%1.1f%%',ax=ax[0],shadow=True)\n",
    "    ax[0].set_title(str_feat)\n",
    "    ax[0].set_ylabel('')\n",
    "    sns.countplot(str_feat,data=df,ax=ax[1])\n",
    "    ax[1].set_title(str_feat)\n",
    "    plt.show()\n",
    "\n",
    "#group data\n",
    "def bin_(str_feat, bins):\n",
    "    df[str_feat] = pd.cut(df[str_feat], bins = np.linspace(df[str_feat].min(), df[str_feat].max(), num = bins))\n",
    "    df[str_feat].value_counts()\n",
    "    \n",
    "#Mối quan hệ với target\n",
    "def feat_target(str_feat,f):\n",
    "    feat_target = pd.pivot_table(df,values=str_feat,index=f,columns='target',aggfunc=len)\n",
    "    perc_target = df[[str_feat, 'target']].groupby([str_feat],as_index=False).mean()\n",
    "    perc_target = pd.DataFrame(perc_target)\n",
    "    perc_target = perc_target.rename(columns = {'target':'1'})\n",
    "    perc_target['0'] = 1 - perc_target['1']\n",
    "    perc_target = perc_target[[str_feat,'0','1']]\n",
    "\n",
    "    print('Number of default and non-default\\n',feat_target)\n",
    "    print('\\nPercent of default and non-default per attribute\\n', perc_target)\n",
    "    return  \n",
    "\n",
    "target_count = df['target'].value_counts()\n",
    "def plot_stats(feature,label_rotation=False,horizontal_layout=True):\n",
    "    target_count = df[feature].value_counts()\n",
    "    df1 = pd.DataFrame({feature: target_count.index,'Number of contracts': target_count.values})\n",
    "\n",
    "    # Calculate the percentage of target=1 per category value\n",
    "    cat_perc = df[[feature, 'target']].groupby([feature],as_index=False).mean()\n",
    "    cat_perc.sort_values(by='target', ascending=False, inplace=True)\n",
    "    \n",
    "    if(horizontal_layout):\n",
    "        fig, (ax1, ax2) = plt.subplots(ncols=2, figsize=(12,6))\n",
    "    else:\n",
    "        fig, (ax1, ax2) = plt.subplots(nrows=2, figsize=(12,14))\n",
    "    sns.set_color_codes(\"pastel\")\n",
    "    s = sns.barplot(ax=ax1, x = feature, y=\"Number of contracts\",data=df1)\n",
    "    if(label_rotation):\n",
    "        s.set_xticklabels(s.get_xticklabels(),rotation=90)\n",
    "    \n",
    "    s = sns.barplot(ax=ax2, x = feature, y='target', order=cat_perc[feature], data=cat_perc)\n",
    "    if(label_rotation):\n",
    "        s.set_xticklabels(s.get_xticklabels(),rotation=90)\n",
    "    plt.ylabel('Percent of target with value 1 [%]', fontsize=10)\n",
    "    plt.tick_params(axis='both', which='major', labelsize=10)\n",
    "\n",
    "    plt.show();\n"
   ]
  },
  {
   "cell_type": "markdown",
   "metadata": {},
   "source": [
    "# Loan condition"
   ]
  },
  {
   "cell_type": "code",
   "execution_count": 12,
   "metadata": {},
   "outputs": [
    {
     "name": "stdout",
     "output_type": "stream",
     "text": [
      "Count\n",
      " Good Loan    819950\n",
      "Bad Loan      67429\n",
      "Name: loan_condition, dtype: int64\n",
      "\n",
      "Percent\n",
      " Good Loan    92.40133\n",
      "Bad Loan      7.59867\n",
      "Name: loan_condition, dtype: float64\n"
     ]
    },
    {
     "data": {
      "image/png": "[encoded data removed]",
      "text/plain": [
       "<Figure size 1296x576 with 2 Axes>"
      ]
     },
     "metadata": {
      "needs_background": "light"
     },
     "output_type": "display_data"
    }
   ],
   "source": [
    "#Loan condition\n",
    "info_feature(df.loan_condition)\n",
    "plot_feat('loan_condition')\n",
    "# => Imbalanced Data"
   ]
  },
  {
   "cell_type": "markdown",
   "metadata": {},
   "source": [
    "The customer's debt condition dataset has 92.4% Good Loans and only 7.6% Bad Loans.\n",
    "=> Dataset is a imbalance data."
   ]
  },
  {
   "cell_type": "markdown",
   "metadata": {},
   "source": [
    "# Year"
   ]
  },
  {
   "cell_type": "code",
   "execution_count": 13,
   "metadata": {
    "scrolled": true
   },
   "outputs": [
    {
     "name": "stdout",
     "output_type": "stream",
     "text": [
      "Count\n",
      " 2015    421094\n",
      "2014    235628\n",
      "2013    134755\n",
      "2012     53367\n",
      "2011     21721\n",
      "2010     12537\n",
      "2009      5281\n",
      "2008      2393\n",
      "2007       603\n",
      "Name: year, dtype: int64\n",
      "\n",
      "Percent\n",
      " 2015    47.453681\n",
      "2014    26.553254\n",
      "2013    15.185732\n",
      "2012     6.014003\n",
      "2011     2.447770\n",
      "2010     1.412812\n",
      "2009     0.595123\n",
      "2008     0.269671\n",
      "2007     0.067953\n",
      "Name: year, dtype: float64\n"
     ]
    }
   ],
   "source": [
    "info_feature(df.year)"
   ]
  },
  {
   "cell_type": "code",
   "execution_count": 14,
   "metadata": {},
   "outputs": [
    {
     "name": "stdout",
     "output_type": "stream",
     "text": [
      "Number of default and non-default\n",
      " target       0      1\n",
      "year                 \n",
      "2007       445    158\n",
      "2008      1897    496\n",
      "2009      4558    723\n",
      "2010     10776   1761\n",
      "2011     18423   3298\n",
      "2012     44923   8444\n",
      "2013    116660  18095\n",
      "2014    213271  22357\n",
      "2015    408997  12097\n",
      "\n",
      "Percent of default and non-default per attribute\n",
      "    year         0         1\n",
      "0  2007  0.737977  0.262023\n",
      "1  2008  0.792729  0.207271\n",
      "2  2009  0.863094  0.136906\n",
      "3  2010  0.859536  0.140464\n",
      "4  2011  0.848165  0.151835\n",
      "5  2012  0.841775  0.158225\n",
      "6  2013  0.865719  0.134281\n",
      "7  2014  0.905117  0.094883\n",
      "8  2015  0.971272  0.028728\n"
     ]
    }
   ],
   "source": [
    "feat_target('year', df.year)"
   ]
  },
  {
   "cell_type": "code",
   "execution_count": 15,
   "metadata": {},
   "outputs": [
    {
     "data": {
      "image/png": "[encoded data removed]",
      "text/plain": [
       "<Figure size 864x432 with 2 Axes>"
      ]
     },
     "metadata": {
      "needs_background": "light"
     },
     "output_type": "display_data"
    }
   ],
   "source": [
    "plot_stats('year')"
   ]
  },
  {
   "cell_type": "markdown",
   "metadata": {},
   "source": [
    "The borrowers were mainly in 2013 and beyond, when the economy had stabilized. In the years 2007-2011, very few people applied for loans, especially in the period 2007-2009 - the period when the economic crisis occurred.\n",
    "It can be seen the effect of that period on the customer's debt status more clearly in the chart of the customer's bad debt ratio year by year. Bad Loan rate was highest in 2007 (more than 25%), then in 2008 (>20%), and Bad Loan rate will decrease gradually in the following years."
   ]
  },
  {
   "cell_type": "markdown",
   "metadata": {},
   "source": [
    "# Employment length"
   ]
  },
  {
   "cell_type": "code",
   "execution_count": 16,
   "metadata": {},
   "outputs": [
    {
     "name": "stdout",
     "output_type": "stream",
     "text": [
      "Count\n",
      " 10.00    291569\n",
      "2.00      78870\n",
      "0.50      70605\n",
      "3.00      70026\n",
      "1.00      57095\n",
      "5.00      55704\n",
      "4.00      52529\n",
      "6.05      44825\n",
      "7.00      44594\n",
      "8.00      43955\n",
      "6.00      42950\n",
      "9.00      34657\n",
      "Name: emp_length_int, dtype: int64\n",
      "\n",
      "Percent\n",
      " 10.00    32.857325\n",
      "2.00      8.887972\n",
      "0.50      7.956578\n",
      "3.00      7.891329\n",
      "1.00      6.434117\n",
      "5.00      6.277363\n",
      "4.00      5.919568\n",
      "6.05      5.051393\n",
      "7.00      5.025361\n",
      "8.00      4.953351\n",
      "6.00      4.840097\n",
      "9.00      3.905547\n",
      "Name: emp_length_int, dtype: float64\n"
     ]
    }
   ],
   "source": [
    "info_feature(df.emp_length_int)"
   ]
  },
  {
   "cell_type": "code",
   "execution_count": 17,
   "metadata": {},
   "outputs": [
    {
     "data": {
      "image/png": "[encoded data removed]",
      "text/plain": [
       "<Figure size 720x432 with 1 Axes>"
      ]
     },
     "metadata": {
      "needs_background": "light"
     },
     "output_type": "display_data"
    }
   ],
   "source": [
    "plot(df.emp_length_int,'emp_length_int')"
   ]
  },
  {
   "cell_type": "markdown",
   "metadata": {},
   "source": [
    "The customer's working time for the most recent job. The person doing the current job for at least half a year and at most 10 years. From the data, we can see that the majority of customers when taking out a loan have been doing their current job for 10 years (accounting for 32.85% of the total number of customers)."
   ]
  },
  {
   "cell_type": "markdown",
   "metadata": {},
   "source": [
    "# Home Ownership"
   ]
  },
  {
   "cell_type": "code",
   "execution_count": 18,
   "metadata": {},
   "outputs": [
    {
     "name": "stdout",
     "output_type": "stream",
     "text": [
      "Count\n",
      " MORTGAGE    443557\n",
      "RENT        356117\n",
      "OWN          87470\n",
      "OTHER          182\n",
      "NONE            50\n",
      "ANY              3\n",
      "Name: home_ownership, dtype: int64\n",
      "\n",
      "Percent\n",
      " MORTGAGE    49.985068\n",
      "RENT        40.131331\n",
      "OWN          9.857119\n",
      "OTHER        0.020510\n",
      "NONE         0.005635\n",
      "ANY          0.000338\n",
      "Name: home_ownership, dtype: float64\n"
     ]
    }
   ],
   "source": [
    "info_feature(df.home_ownership)"
   ]
  },
  {
   "cell_type": "code",
   "execution_count": 19,
   "metadata": {},
   "outputs": [
    {
     "data": {
      "image/png": "[encoded data removed]",
      "text/plain": [
       "<Figure size 720x432 with 1 Axes>"
      ]
     },
     "metadata": {
      "needs_background": "light"
     },
     "output_type": "display_data"
    }
   ],
   "source": [
    "plot(df.home_ownership,'home_ownership')"
   ]
  },
  {
   "cell_type": "code",
   "execution_count": 20,
   "metadata": {},
   "outputs": [
    {
     "name": "stdout",
     "output_type": "stream",
     "text": [
      "Number of default and non-default\n",
      " target                 0        1\n",
      "home_ownership                   \n",
      "ANY                  3.0      NaN\n",
      "MORTGAGE        413858.0  29699.0\n",
      "NONE                42.0      8.0\n",
      "OTHER              144.0     38.0\n",
      "OWN              81177.0   6293.0\n",
      "RENT            324726.0  31391.0\n",
      "\n",
      "Percent of default and non-default per attribute\n",
      "   home_ownership         0         1\n",
      "0            ANY  1.000000  0.000000\n",
      "1       MORTGAGE  0.933044  0.066956\n",
      "2           NONE  0.840000  0.160000\n",
      "3          OTHER  0.791209  0.208791\n",
      "4            OWN  0.928055  0.071945\n",
      "5           RENT  0.911852  0.088148\n"
     ]
    },
    {
     "data": {
      "image/png": "[encoded data removed]",
      "text/plain": [
       "<Figure size 864x432 with 2 Axes>"
      ]
     },
     "metadata": {
      "needs_background": "light"
     },
     "output_type": "display_data"
    }
   ],
   "source": [
    "feat_target('home_ownership', df.home_ownership)\n",
    "plot_stats('home_ownership')"
   ]
  },
  {
   "cell_type": "markdown",
   "metadata": {},
   "source": [
    "The home ownership status feature provided by the borrower upon registration has six different status categories: rent, own, mortgage, other, none, any. None and any account for quite a small amount, this can happen while filling in information, customers or employees have made this data error. Thus processing: merging two data into one.\n",
    "As can be seen the chart Home Ownership (%), it is clear that customers are mainly living in rented houses (40.13%) or in installments (49.98%), and the number of customers owning their own houses is much less with 9.86% of the total number of customers.\n",
    "As can be seen the chart Home Ownership (% Bad Loan), although the bad loan rate of other and none is not high, compared to other values in the feature, it is much higher (0.2% and 0.19%)."
   ]
  },
  {
   "cell_type": "markdown",
   "metadata": {},
   "source": [
    "# Income category"
   ]
  },
  {
   "cell_type": "code",
   "execution_count": 21,
   "metadata": {},
   "outputs": [
    {
     "name": "stdout",
     "output_type": "stream",
     "text": [
      "Count\n",
      " Low       729616\n",
      "Medium    140977\n",
      "High       16786\n",
      "Name: income_category, dtype: int64\n",
      "\n",
      "Percent\n",
      " Low       82.221463\n",
      "Medium    15.886898\n",
      "High       1.891638\n",
      "Name: income_category, dtype: float64\n"
     ]
    }
   ],
   "source": [
    "info_feature(df.income_category)"
   ]
  },
  {
   "cell_type": "code",
   "execution_count": 22,
   "metadata": {},
   "outputs": [
    {
     "data": {
      "image/png": "[encoded data removed]",
      "text/plain": [
       "<Figure size 720x432 with 1 Axes>"
      ]
     },
     "metadata": {
      "needs_background": "light"
     },
     "output_type": "display_data"
    }
   ],
   "source": [
    "plot(df.income_category,'income_category')"
   ]
  },
  {
   "cell_type": "code",
   "execution_count": 23,
   "metadata": {},
   "outputs": [
    {
     "name": "stdout",
     "output_type": "stream",
     "text": [
      "Number of default and non-default\n",
      " target                0      1\n",
      "income_category               \n",
      "High              15978    808\n",
      "Low              670751  58865\n",
      "Medium           133221   7756\n",
      "\n",
      "Percent of default and non-default per attribute\n",
      "   income_category         0         1\n",
      "0            High  0.951865  0.048135\n",
      "1             Low  0.919321  0.080679\n",
      "2          Medium  0.944984  0.055016\n"
     ]
    }
   ],
   "source": [
    "feat_target('income_category',df.income_category)"
   ]
  },
  {
   "cell_type": "markdown",
   "metadata": {},
   "source": [
    "The chart shows that almost customers who borrow from banks have low income (accounting for 82.22%) of the total number of customers. Middle-income customers account for 15.89% and the number of high-income customers is very low (only 1.89% ~ 16786 customers).\n",
    "•\tCustomers with low income from 100000 down.\n",
    "•\tCustomers have an average income of 200000 or less.\n",
    "•\tCustomers with high income over 200000 - 950000.\n",
    "The second chart shows the trends in customer income and Bad Loan rates. The higher the customer's income, the lower the Bad Loan rate.\n"
   ]
  },
  {
   "cell_type": "code",
   "execution_count": 24,
   "metadata": {},
   "outputs": [
    {
     "name": "stdout",
     "output_type": "stream",
     "text": [
      "Number of default and non-default\n",
      " target                 0        1\n",
      "home_ownership                   \n",
      "ANY                  3.0      NaN\n",
      "MORTGAGE        413858.0  29699.0\n",
      "NONE                42.0      8.0\n",
      "OTHER              144.0     38.0\n",
      "OWN              81177.0   6293.0\n",
      "RENT            324726.0  31391.0\n",
      "\n",
      "Percent of default and non-default per attribute\n",
      "   income_category         0         1\n",
      "0            High  0.951865  0.048135\n",
      "1             Low  0.919321  0.080679\n",
      "2          Medium  0.944984  0.055016\n"
     ]
    },
    {
     "data": {
      "image/png": "[encoded data removed]",
      "text/plain": [
       "<Figure size 864x432 with 2 Axes>"
      ]
     },
     "metadata": {
      "needs_background": "light"
     },
     "output_type": "display_data"
    }
   ],
   "source": [
    "feat_target('income_category', df.home_ownership)\n",
    "plot_stats('income_category')"
   ]
  },
  {
   "cell_type": "markdown",
   "metadata": {},
   "source": [
    "# Term"
   ]
  },
  {
   "cell_type": "code",
   "execution_count": 25,
   "metadata": {},
   "outputs": [
    {
     "name": "stdout",
     "output_type": "stream",
     "text": [
      "Count\n",
      "  36 months    621125\n",
      " 60 months    266254\n",
      "Name: term, dtype: int64\n",
      "\n",
      "Percent\n",
      "  36 months    69.995459\n",
      " 60 months    30.004541\n",
      "Name: term, dtype: float64\n"
     ]
    }
   ],
   "source": [
    "info_feature(df.term)"
   ]
  },
  {
   "cell_type": "code",
   "execution_count": 26,
   "metadata": {},
   "outputs": [
    {
     "name": "stdout",
     "output_type": "stream",
     "text": [
      "Number of default and non-default\n",
      " target           0      1\n",
      "term                     \n",
      " 36 months  578194  42931\n",
      " 60 months  241756  24498\n",
      "\n",
      "Percent of default and non-default per attribute\n",
      "          term         0         1\n",
      "0   36 months  0.930882  0.069118\n",
      "1   60 months  0.907990  0.092010\n"
     ]
    }
   ],
   "source": [
    "feat_target('term',df.term)"
   ]
  },
  {
   "cell_type": "code",
   "execution_count": 27,
   "metadata": {},
   "outputs": [
    {
     "data": {
      "text/html": [
       "<style  type=\"text/css\" >\n",
       "    #T_fbc67a7a_bbff_11ec_8e2a_80913334c23arow0_col0 {\n",
       "            background-color:  #92c866;\n",
       "        }    #T_fbc67a7a_bbff_11ec_8e2a_80913334c23arow0_col1 {\n",
       "            background-color:  #6bb566;\n",
       "        }    #T_fbc67a7a_bbff_11ec_8e2a_80913334c23arow0_col2 {\n",
       "            background-color:  #6db666;\n",
       "        }    #T_fbc67a7a_bbff_11ec_8e2a_80913334c23arow1_col0 {\n",
       "            background-color:  #ffff66;\n",
       "        }    #T_fbc67a7a_bbff_11ec_8e2a_80913334c23arow1_col1 {\n",
       "            background-color:  #ffff66;\n",
       "        }    #T_fbc67a7a_bbff_11ec_8e2a_80913334c23arow1_col2 {\n",
       "            background-color:  #ffff66;\n",
       "        }    #T_fbc67a7a_bbff_11ec_8e2a_80913334c23arow2_col0 {\n",
       "            background-color:  #008066;\n",
       "        }    #T_fbc67a7a_bbff_11ec_8e2a_80913334c23arow2_col1 {\n",
       "            background-color:  #008066;\n",
       "        }    #T_fbc67a7a_bbff_11ec_8e2a_80913334c23arow2_col2 {\n",
       "            background-color:  #008066;\n",
       "        }</style>  \n",
       "<table id=\"T_fbc67a7a_bbff_11ec_8e2a_80913334c23a\" > \n",
       "<thead>    <tr> \n",
       "        <th class=\"index_name level0\" >loan_condition</th> \n",
       "        <th class=\"col_heading level0 col0\" >Bad Loan</th> \n",
       "        <th class=\"col_heading level0 col1\" >Good Loan</th> \n",
       "        <th class=\"col_heading level0 col2\" >All</th> \n",
       "    </tr>    <tr> \n",
       "        <th class=\"index_name level0\" >term</th> \n",
       "        <th class=\"blank\" ></th> \n",
       "        <th class=\"blank\" ></th> \n",
       "        <th class=\"blank\" ></th> \n",
       "    </tr></thead> \n",
       "<tbody>    <tr> \n",
       "        <th id=\"T_fbc67a7a_bbff_11ec_8e2a_80913334c23alevel0_row0\" class=\"row_heading level0 row0\" > 36 months</th> \n",
       "        <td id=\"T_fbc67a7a_bbff_11ec_8e2a_80913334c23arow0_col0\" class=\"data row0 col0\" >42931</td> \n",
       "        <td id=\"T_fbc67a7a_bbff_11ec_8e2a_80913334c23arow0_col1\" class=\"data row0 col1\" >578194</td> \n",
       "        <td id=\"T_fbc67a7a_bbff_11ec_8e2a_80913334c23arow0_col2\" class=\"data row0 col2\" >621125</td> \n",
       "    </tr>    <tr> \n",
       "        <th id=\"T_fbc67a7a_bbff_11ec_8e2a_80913334c23alevel0_row1\" class=\"row_heading level0 row1\" > 60 months</th> \n",
       "        <td id=\"T_fbc67a7a_bbff_11ec_8e2a_80913334c23arow1_col0\" class=\"data row1 col0\" >24498</td> \n",
       "        <td id=\"T_fbc67a7a_bbff_11ec_8e2a_80913334c23arow1_col1\" class=\"data row1 col1\" >241756</td> \n",
       "        <td id=\"T_fbc67a7a_bbff_11ec_8e2a_80913334c23arow1_col2\" class=\"data row1 col2\" >266254</td> \n",
       "    </tr>    <tr> \n",
       "        <th id=\"T_fbc67a7a_bbff_11ec_8e2a_80913334c23alevel0_row2\" class=\"row_heading level0 row2\" >All</th> \n",
       "        <td id=\"T_fbc67a7a_bbff_11ec_8e2a_80913334c23arow2_col0\" class=\"data row2 col0\" >67429</td> \n",
       "        <td id=\"T_fbc67a7a_bbff_11ec_8e2a_80913334c23arow2_col1\" class=\"data row2 col1\" >819950</td> \n",
       "        <td id=\"T_fbc67a7a_bbff_11ec_8e2a_80913334c23arow2_col2\" class=\"data row2 col2\" >887379</td> \n",
       "    </tr></tbody> \n",
       "</table> "
      ],
      "text/plain": [
       "<pandas.io.formats.style.Styler at 0x1efd437eda0>"
      ]
     },
     "execution_count": 27,
     "metadata": {},
     "output_type": "execute_result"
    }
   ],
   "source": [
    "pd.crosstab(df.term,df.loan_condition,margins=True).style.background_gradient(cmap='summer_r')"
   ]
  },
  {
   "cell_type": "code",
   "execution_count": 28,
   "metadata": {},
   "outputs": [
    {
     "data": {
      "image/png": "[encoded data removed]",
      "text/plain": [
       "<Figure size 1296x576 with 2 Axes>"
      ]
     },
     "metadata": {
      "needs_background": "light"
     },
     "output_type": "display_data"
    }
   ],
   "source": [
    "f,ax=plt.subplots(1,2,figsize=(18,8))\n",
    "df[['term','loan_condition_cat']].groupby(['term']).mean().plot.bar(ax=ax[0])\n",
    "ax[0].set_title('loan_condition vs term')\n",
    "sns.countplot('term',hue='loan_condition_cat',data=df,ax=ax[1])\n",
    "ax[1].set_title('term:Bad Loan vs Good loan')\n",
    "plt.show()"
   ]
  },
  {
   "cell_type": "code",
   "execution_count": 29,
   "metadata": {},
   "outputs": [
    {
     "data": {
      "image/png": "[encoded data removed]",
      "text/plain": [
       "<Figure size 864x432 with 2 Axes>"
      ]
     },
     "metadata": {
      "needs_background": "light"
     },
     "output_type": "display_data"
    }
   ],
   "source": [
    "plot_stats('term',False,True)"
   ]
  },
  {
   "cell_type": "markdown",
   "metadata": {},
   "source": [
    "When borrowing from a bank, there are two repayment periods: 60 months and 36 months.\n",
    "Customers mainly borrow with a term of 36 months, the number of borrowers with a term of 36 months (accounting for 70% of total customers) is more than double the number of borrowers with a term of 60 months (accounting for 30% of total customers). However, the Bad Loan rate for customers who borrow within 60 months is higher than that for customers who borrow within 36 months.\n",
    "It is possible that a longer loan period results in a lower repayment capacity.\n"
   ]
  },
  {
   "cell_type": "markdown",
   "metadata": {},
   "source": [
    "# Application_type"
   ]
  },
  {
   "cell_type": "code",
   "execution_count": 30,
   "metadata": {},
   "outputs": [
    {
     "name": "stdout",
     "output_type": "stream",
     "text": [
      "Count\n",
      " INDIVIDUAL    886868\n",
      "JOINT            511\n",
      "Name: application_type, dtype: int64\n",
      "\n",
      "Percent\n",
      " INDIVIDUAL    99.942415\n",
      "JOINT          0.057585\n",
      "Name: application_type, dtype: float64\n"
     ]
    }
   ],
   "source": [
    "info_feature(df.application_type)"
   ]
  },
  {
   "cell_type": "code",
   "execution_count": 31,
   "metadata": {},
   "outputs": [
    {
     "data": {
      "text/html": [
       "<style  type=\"text/css\" >\n",
       "    #T_fdcc5be8_bbff_11ec_8b2f_80913334c23arow0_col0 {\n",
       "            background-color:  #008066;\n",
       "        }    #T_fdcc5be8_bbff_11ec_8b2f_80913334c23arow0_col1 {\n",
       "            background-color:  #008066;\n",
       "        }    #T_fdcc5be8_bbff_11ec_8b2f_80913334c23arow0_col2 {\n",
       "            background-color:  #008066;\n",
       "        }    #T_fdcc5be8_bbff_11ec_8b2f_80913334c23arow1_col0 {\n",
       "            background-color:  #ffff66;\n",
       "        }    #T_fdcc5be8_bbff_11ec_8b2f_80913334c23arow1_col1 {\n",
       "            background-color:  #ffff66;\n",
       "        }    #T_fdcc5be8_bbff_11ec_8b2f_80913334c23arow1_col2 {\n",
       "            background-color:  #ffff66;\n",
       "        }    #T_fdcc5be8_bbff_11ec_8b2f_80913334c23arow2_col0 {\n",
       "            background-color:  #008066;\n",
       "        }    #T_fdcc5be8_bbff_11ec_8b2f_80913334c23arow2_col1 {\n",
       "            background-color:  #008066;\n",
       "        }    #T_fdcc5be8_bbff_11ec_8b2f_80913334c23arow2_col2 {\n",
       "            background-color:  #008066;\n",
       "        }</style>  \n",
       "<table id=\"T_fdcc5be8_bbff_11ec_8b2f_80913334c23a\" > \n",
       "<thead>    <tr> \n",
       "        <th class=\"index_name level0\" >loan_condition</th> \n",
       "        <th class=\"col_heading level0 col0\" >Bad Loan</th> \n",
       "        <th class=\"col_heading level0 col1\" >Good Loan</th> \n",
       "        <th class=\"col_heading level0 col2\" >All</th> \n",
       "    </tr>    <tr> \n",
       "        <th class=\"index_name level0\" >application_type</th> \n",
       "        <th class=\"blank\" ></th> \n",
       "        <th class=\"blank\" ></th> \n",
       "        <th class=\"blank\" ></th> \n",
       "    </tr></thead> \n",
       "<tbody>    <tr> \n",
       "        <th id=\"T_fdcc5be8_bbff_11ec_8b2f_80913334c23alevel0_row0\" class=\"row_heading level0 row0\" >INDIVIDUAL</th> \n",
       "        <td id=\"T_fdcc5be8_bbff_11ec_8b2f_80913334c23arow0_col0\" class=\"data row0 col0\" >67424</td> \n",
       "        <td id=\"T_fdcc5be8_bbff_11ec_8b2f_80913334c23arow0_col1\" class=\"data row0 col1\" >819444</td> \n",
       "        <td id=\"T_fdcc5be8_bbff_11ec_8b2f_80913334c23arow0_col2\" class=\"data row0 col2\" >886868</td> \n",
       "    </tr>    <tr> \n",
       "        <th id=\"T_fdcc5be8_bbff_11ec_8b2f_80913334c23alevel0_row1\" class=\"row_heading level0 row1\" >JOINT</th> \n",
       "        <td id=\"T_fdcc5be8_bbff_11ec_8b2f_80913334c23arow1_col0\" class=\"data row1 col0\" >5</td> \n",
       "        <td id=\"T_fdcc5be8_bbff_11ec_8b2f_80913334c23arow1_col1\" class=\"data row1 col1\" >506</td> \n",
       "        <td id=\"T_fdcc5be8_bbff_11ec_8b2f_80913334c23arow1_col2\" class=\"data row1 col2\" >511</td> \n",
       "    </tr>    <tr> \n",
       "        <th id=\"T_fdcc5be8_bbff_11ec_8b2f_80913334c23alevel0_row2\" class=\"row_heading level0 row2\" >All</th> \n",
       "        <td id=\"T_fdcc5be8_bbff_11ec_8b2f_80913334c23arow2_col0\" class=\"data row2 col0\" >67429</td> \n",
       "        <td id=\"T_fdcc5be8_bbff_11ec_8b2f_80913334c23arow2_col1\" class=\"data row2 col1\" >819950</td> \n",
       "        <td id=\"T_fdcc5be8_bbff_11ec_8b2f_80913334c23arow2_col2\" class=\"data row2 col2\" >887379</td> \n",
       "    </tr></tbody> \n",
       "</table> "
      ],
      "text/plain": [
       "<pandas.io.formats.style.Styler at 0x1efd43aa240>"
      ]
     },
     "execution_count": 31,
     "metadata": {},
     "output_type": "execute_result"
    }
   ],
   "source": [
    "pd.crosstab(df.application_type,df.loan_condition,margins=True).style.background_gradient(cmap='summer_r')"
   ]
  },
  {
   "cell_type": "code",
   "execution_count": 32,
   "metadata": {},
   "outputs": [
    {
     "name": "stdout",
     "output_type": "stream",
     "text": [
      "Number of default and non-default\n",
      " target                 0      1\n",
      "application_type               \n",
      "INDIVIDUAL        819444  67424\n",
      "JOINT                506      5\n",
      "\n",
      "Percent of default and non-default per attribute\n",
      "   application_type         0         1\n",
      "0       INDIVIDUAL  0.923975  0.076025\n",
      "1            JOINT  0.990215  0.009785\n"
     ]
    }
   ],
   "source": [
    "feat_target('application_type',df.application_type)"
   ]
  },
  {
   "cell_type": "code",
   "execution_count": 33,
   "metadata": {},
   "outputs": [
    {
     "data": {
      "image/png": "[encoded data removed]",
      "text/plain": [
       "<Figure size 864x432 with 2 Axes>"
      ]
     },
     "metadata": {
      "needs_background": "light"
     },
     "output_type": "display_data"
    }
   ],
   "source": [
    "plot_stats('application_type',False,True)"
   ]
  },
  {
   "cell_type": "markdown",
   "metadata": {},
   "source": [
    "Borrowers are mostly individual borrowers, very few customers apply for loans with other people (0.06% of total customers - 511 people).\n",
    "This is also reasonable when the percentage of Bad Loan customers with personal loans (0.07%) is much higher than when applying for loans with other people (0.0098%)."
   ]
  },
  {
   "cell_type": "markdown",
   "metadata": {},
   "source": [
    "# Purpose"
   ]
  },
  {
   "cell_type": "code",
   "execution_count": 34,
   "metadata": {},
   "outputs": [
    {
     "name": "stdout",
     "output_type": "stream",
     "text": [
      "Count\n",
      " debt_consolidation    524215\n",
      "credit_card           206182\n",
      "home_improvement       51829\n",
      "other                  42894\n",
      "major_purchase         17277\n",
      "small_business         10377\n",
      "car                     8863\n",
      "medical                 8540\n",
      "moving                  5414\n",
      "vacation                4736\n",
      "house                   3707\n",
      "wedding                 2347\n",
      "renewable_energy         575\n",
      "educational              423\n",
      "Name: purpose, dtype: int64\n",
      "\n",
      "Percent\n",
      " debt_consolidation    59.074533\n",
      "credit_card           23.234942\n",
      "home_improvement       5.840684\n",
      "other                  4.833786\n",
      "major_purchase         1.946970\n",
      "small_business         1.169399\n",
      "car                    0.998784\n",
      "medical                0.962385\n",
      "moving                 0.610111\n",
      "vacation               0.533707\n",
      "house                  0.417747\n",
      "wedding                0.264487\n",
      "renewable_energy       0.064798\n",
      "educational            0.047668\n",
      "Name: purpose, dtype: float64\n"
     ]
    }
   ],
   "source": [
    "info_feature(df.purpose)"
   ]
  },
  {
   "cell_type": "code",
   "execution_count": 35,
   "metadata": {},
   "outputs": [
    {
     "data": {
      "text/html": [
       "<style  type=\"text/css\" >\n",
       "    #T_ff6c9702_bbff_11ec_944a_80913334c23arow0_col0 {\n",
       "            background-color:  #fefe66;\n",
       "        }    #T_ff6c9702_bbff_11ec_944a_80913334c23arow0_col1 {\n",
       "            background-color:  #fdfe66;\n",
       "        }    #T_ff6c9702_bbff_11ec_944a_80913334c23arow0_col2 {\n",
       "            background-color:  #fdfe66;\n",
       "        }    #T_ff6c9702_bbff_11ec_944a_80913334c23arow1_col0 {\n",
       "            background-color:  #d3e966;\n",
       "        }    #T_ff6c9702_bbff_11ec_944a_80913334c23arow1_col1 {\n",
       "            background-color:  #c3e166;\n",
       "        }    #T_ff6c9702_bbff_11ec_944a_80913334c23arow1_col2 {\n",
       "            background-color:  #c4e266;\n",
       "        }    #T_ff6c9702_bbff_11ec_944a_80913334c23arow2_col0 {\n",
       "            background-color:  #62b066;\n",
       "        }    #T_ff6c9702_bbff_11ec_944a_80913334c23arow2_col1 {\n",
       "            background-color:  #69b466;\n",
       "        }    #T_ff6c9702_bbff_11ec_944a_80913334c23arow2_col2 {\n",
       "            background-color:  #68b366;\n",
       "        }    #T_ff6c9702_bbff_11ec_944a_80913334c23arow3_col0 {\n",
       "            background-color:  #ffff66;\n",
       "        }    #T_ff6c9702_bbff_11ec_944a_80913334c23arow3_col1 {\n",
       "            background-color:  #ffff66;\n",
       "        }    #T_ff6c9702_bbff_11ec_944a_80913334c23arow3_col2 {\n",
       "            background-color:  #ffff66;\n",
       "        }    #T_ff6c9702_bbff_11ec_944a_80913334c23arow4_col0 {\n",
       "            background-color:  #f2f866;\n",
       "        }    #T_ff6c9702_bbff_11ec_944a_80913334c23arow4_col1 {\n",
       "            background-color:  #f1f866;\n",
       "        }    #T_ff6c9702_bbff_11ec_944a_80913334c23arow4_col2 {\n",
       "            background-color:  #f1f866;\n",
       "        }    #T_ff6c9702_bbff_11ec_944a_80913334c23arow5_col0 {\n",
       "            background-color:  #fefe66;\n",
       "        }    #T_ff6c9702_bbff_11ec_944a_80913334c23arow5_col1 {\n",
       "            background-color:  #ffff66;\n",
       "        }    #T_ff6c9702_bbff_11ec_944a_80913334c23arow5_col2 {\n",
       "            background-color:  #ffff66;\n",
       "        }    #T_ff6c9702_bbff_11ec_944a_80913334c23arow6_col0 {\n",
       "            background-color:  #fbfd66;\n",
       "        }    #T_ff6c9702_bbff_11ec_944a_80913334c23arow6_col1 {\n",
       "            background-color:  #fbfd66;\n",
       "        }    #T_ff6c9702_bbff_11ec_944a_80913334c23arow6_col2 {\n",
       "            background-color:  #fbfd66;\n",
       "        }    #T_ff6c9702_bbff_11ec_944a_80913334c23arow7_col0 {\n",
       "            background-color:  #fdfe66;\n",
       "        }    #T_ff6c9702_bbff_11ec_944a_80913334c23arow7_col1 {\n",
       "            background-color:  #fdfe66;\n",
       "        }    #T_ff6c9702_bbff_11ec_944a_80913334c23arow7_col2 {\n",
       "            background-color:  #fdfe66;\n",
       "        }    #T_ff6c9702_bbff_11ec_944a_80913334c23arow8_col0 {\n",
       "            background-color:  #fdfe66;\n",
       "        }    #T_ff6c9702_bbff_11ec_944a_80913334c23arow8_col1 {\n",
       "            background-color:  #fefe66;\n",
       "        }    #T_ff6c9702_bbff_11ec_944a_80913334c23arow8_col2 {\n",
       "            background-color:  #fefe66;\n",
       "        }    #T_ff6c9702_bbff_11ec_944a_80913334c23arow9_col0 {\n",
       "            background-color:  #f0f866;\n",
       "        }    #T_ff6c9702_bbff_11ec_944a_80913334c23arow9_col1 {\n",
       "            background-color:  #f4fa66;\n",
       "        }    #T_ff6c9702_bbff_11ec_944a_80913334c23arow9_col2 {\n",
       "            background-color:  #f3f966;\n",
       "        }    #T_ff6c9702_bbff_11ec_944a_80913334c23arow10_col0 {\n",
       "            background-color:  #ffff66;\n",
       "        }    #T_ff6c9702_bbff_11ec_944a_80913334c23arow10_col1 {\n",
       "            background-color:  #ffff66;\n",
       "        }    #T_ff6c9702_bbff_11ec_944a_80913334c23arow10_col2 {\n",
       "            background-color:  #ffff66;\n",
       "        }    #T_ff6c9702_bbff_11ec_944a_80913334c23arow11_col0 {\n",
       "            background-color:  #f9fc66;\n",
       "        }    #T_ff6c9702_bbff_11ec_944a_80913334c23arow11_col1 {\n",
       "            background-color:  #fdfe66;\n",
       "        }    #T_ff6c9702_bbff_11ec_944a_80913334c23arow11_col2 {\n",
       "            background-color:  #fdfe66;\n",
       "        }    #T_ff6c9702_bbff_11ec_944a_80913334c23arow12_col0 {\n",
       "            background-color:  #fefe66;\n",
       "        }    #T_ff6c9702_bbff_11ec_944a_80913334c23arow12_col1 {\n",
       "            background-color:  #fefe66;\n",
       "        }    #T_ff6c9702_bbff_11ec_944a_80913334c23arow12_col2 {\n",
       "            background-color:  #fefe66;\n",
       "        }    #T_ff6c9702_bbff_11ec_944a_80913334c23arow13_col0 {\n",
       "            background-color:  #ffff66;\n",
       "        }    #T_ff6c9702_bbff_11ec_944a_80913334c23arow13_col1 {\n",
       "            background-color:  #ffff66;\n",
       "        }    #T_ff6c9702_bbff_11ec_944a_80913334c23arow13_col2 {\n",
       "            background-color:  #ffff66;\n",
       "        }    #T_ff6c9702_bbff_11ec_944a_80913334c23arow14_col0 {\n",
       "            background-color:  #008066;\n",
       "        }    #T_ff6c9702_bbff_11ec_944a_80913334c23arow14_col1 {\n",
       "            background-color:  #008066;\n",
       "        }    #T_ff6c9702_bbff_11ec_944a_80913334c23arow14_col2 {\n",
       "            background-color:  #008066;\n",
       "        }</style>  \n",
       "<table id=\"T_ff6c9702_bbff_11ec_944a_80913334c23a\" > \n",
       "<thead>    <tr> \n",
       "        <th class=\"index_name level0\" >loan_condition</th> \n",
       "        <th class=\"col_heading level0 col0\" >Bad Loan</th> \n",
       "        <th class=\"col_heading level0 col1\" >Good Loan</th> \n",
       "        <th class=\"col_heading level0 col2\" >All</th> \n",
       "    </tr>    <tr> \n",
       "        <th class=\"index_name level0\" >purpose</th> \n",
       "        <th class=\"blank\" ></th> \n",
       "        <th class=\"blank\" ></th> \n",
       "        <th class=\"blank\" ></th> \n",
       "    </tr></thead> \n",
       "<tbody>    <tr> \n",
       "        <th id=\"T_ff6c9702_bbff_11ec_944a_80913334c23alevel0_row0\" class=\"row_heading level0 row0\" >car</th> \n",
       "        <td id=\"T_ff6c9702_bbff_11ec_944a_80913334c23arow0_col0\" class=\"data row0 col0\" >596</td> \n",
       "        <td id=\"T_ff6c9702_bbff_11ec_944a_80913334c23arow0_col1\" class=\"data row0 col1\" >8267</td> \n",
       "        <td id=\"T_ff6c9702_bbff_11ec_944a_80913334c23arow0_col2\" class=\"data row0 col2\" >8863</td> \n",
       "    </tr>    <tr> \n",
       "        <th id=\"T_ff6c9702_bbff_11ec_944a_80913334c23alevel0_row1\" class=\"row_heading level0 row1\" >credit_card</th> \n",
       "        <td id=\"T_ff6c9702_bbff_11ec_944a_80913334c23arow1_col0\" class=\"data row1 col0\" >11755</td> \n",
       "        <td id=\"T_ff6c9702_bbff_11ec_944a_80913334c23arow1_col1\" class=\"data row1 col1\" >194427</td> \n",
       "        <td id=\"T_ff6c9702_bbff_11ec_944a_80913334c23arow1_col2\" class=\"data row1 col2\" >206182</td> \n",
       "    </tr>    <tr> \n",
       "        <th id=\"T_ff6c9702_bbff_11ec_944a_80913334c23alevel0_row2\" class=\"row_heading level0 row2\" >debt_consolidation</th> \n",
       "        <td id=\"T_ff6c9702_bbff_11ec_944a_80913334c23arow2_col0\" class=\"data row2 col0\" >41608</td> \n",
       "        <td id=\"T_ff6c9702_bbff_11ec_944a_80913334c23arow2_col1\" class=\"data row2 col1\" >482607</td> \n",
       "        <td id=\"T_ff6c9702_bbff_11ec_944a_80913334c23arow2_col2\" class=\"data row2 col2\" >524215</td> \n",
       "    </tr>    <tr> \n",
       "        <th id=\"T_ff6c9702_bbff_11ec_944a_80913334c23alevel0_row3\" class=\"row_heading level0 row3\" >educational</th> \n",
       "        <td id=\"T_ff6c9702_bbff_11ec_944a_80913334c23arow3_col0\" class=\"data row3 col0\" >88</td> \n",
       "        <td id=\"T_ff6c9702_bbff_11ec_944a_80913334c23arow3_col1\" class=\"data row3 col1\" >335</td> \n",
       "        <td id=\"T_ff6c9702_bbff_11ec_944a_80913334c23arow3_col2\" class=\"data row3 col2\" >423</td> \n",
       "    </tr>    <tr> \n",
       "        <th id=\"T_ff6c9702_bbff_11ec_944a_80913334c23alevel0_row4\" class=\"row_heading level0 row4\" >home_improvement</th> \n",
       "        <td id=\"T_ff6c9702_bbff_11ec_944a_80913334c23arow4_col0\" class=\"data row4 col0\" >3553</td> \n",
       "        <td id=\"T_ff6c9702_bbff_11ec_944a_80913334c23arow4_col1\" class=\"data row4 col1\" >48276</td> \n",
       "        <td id=\"T_ff6c9702_bbff_11ec_944a_80913334c23arow4_col2\" class=\"data row4 col2\" >51829</td> \n",
       "    </tr>    <tr> \n",
       "        <th id=\"T_ff6c9702_bbff_11ec_944a_80913334c23alevel0_row5\" class=\"row_heading level0 row5\" >house</th> \n",
       "        <td id=\"T_ff6c9702_bbff_11ec_944a_80913334c23arow5_col0\" class=\"data row5 col0\" >417</td> \n",
       "        <td id=\"T_ff6c9702_bbff_11ec_944a_80913334c23arow5_col1\" class=\"data row5 col1\" >3290</td> \n",
       "        <td id=\"T_ff6c9702_bbff_11ec_944a_80913334c23arow5_col2\" class=\"data row5 col2\" >3707</td> \n",
       "    </tr>    <tr> \n",
       "        <th id=\"T_ff6c9702_bbff_11ec_944a_80913334c23alevel0_row6\" class=\"row_heading level0 row6\" >major_purchase</th> \n",
       "        <td id=\"T_ff6c9702_bbff_11ec_944a_80913334c23arow6_col0\" class=\"data row6 col0\" >1294</td> \n",
       "        <td id=\"T_ff6c9702_bbff_11ec_944a_80913334c23arow6_col1\" class=\"data row6 col1\" >15983</td> \n",
       "        <td id=\"T_ff6c9702_bbff_11ec_944a_80913334c23arow6_col2\" class=\"data row6 col2\" >17277</td> \n",
       "    </tr>    <tr> \n",
       "        <th id=\"T_ff6c9702_bbff_11ec_944a_80913334c23alevel0_row7\" class=\"row_heading level0 row7\" >medical</th> \n",
       "        <td id=\"T_ff6c9702_bbff_11ec_944a_80913334c23arow7_col0\" class=\"data row7 col0\" >804</td> \n",
       "        <td id=\"T_ff6c9702_bbff_11ec_944a_80913334c23arow7_col1\" class=\"data row7 col1\" >7736</td> \n",
       "        <td id=\"T_ff6c9702_bbff_11ec_944a_80913334c23arow7_col2\" class=\"data row7 col2\" >8540</td> \n",
       "    </tr>    <tr> \n",
       "        <th id=\"T_ff6c9702_bbff_11ec_944a_80913334c23alevel0_row8\" class=\"row_heading level0 row8\" >moving</th> \n",
       "        <td id=\"T_ff6c9702_bbff_11ec_944a_80913334c23arow8_col0\" class=\"data row8 col0\" >607</td> \n",
       "        <td id=\"T_ff6c9702_bbff_11ec_944a_80913334c23arow8_col1\" class=\"data row8 col1\" >4807</td> \n",
       "        <td id=\"T_ff6c9702_bbff_11ec_944a_80913334c23arow8_col2\" class=\"data row8 col2\" >5414</td> \n",
       "    </tr>    <tr> \n",
       "        <th id=\"T_ff6c9702_bbff_11ec_944a_80913334c23alevel0_row9\" class=\"row_heading level0 row9\" >other</th> \n",
       "        <td id=\"T_ff6c9702_bbff_11ec_944a_80913334c23arow9_col0\" class=\"data row9 col0\" >4163</td> \n",
       "        <td id=\"T_ff6c9702_bbff_11ec_944a_80913334c23arow9_col1\" class=\"data row9 col1\" >38731</td> \n",
       "        <td id=\"T_ff6c9702_bbff_11ec_944a_80913334c23arow9_col2\" class=\"data row9 col2\" >42894</td> \n",
       "    </tr>    <tr> \n",
       "        <th id=\"T_ff6c9702_bbff_11ec_944a_80913334c23alevel0_row10\" class=\"row_heading level0 row10\" >renewable_energy</th> \n",
       "        <td id=\"T_ff6c9702_bbff_11ec_944a_80913334c23arow10_col0\" class=\"data row10 col0\" >72</td> \n",
       "        <td id=\"T_ff6c9702_bbff_11ec_944a_80913334c23arow10_col1\" class=\"data row10 col1\" >503</td> \n",
       "        <td id=\"T_ff6c9702_bbff_11ec_944a_80913334c23arow10_col2\" class=\"data row10 col2\" >575</td> \n",
       "    </tr>    <tr> \n",
       "        <th id=\"T_ff6c9702_bbff_11ec_944a_80913334c23alevel0_row11\" class=\"row_heading level0 row11\" >small_business</th> \n",
       "        <td id=\"T_ff6c9702_bbff_11ec_944a_80913334c23arow11_col0\" class=\"data row11 col0\" >1781</td> \n",
       "        <td id=\"T_ff6c9702_bbff_11ec_944a_80913334c23arow11_col1\" class=\"data row11 col1\" >8596</td> \n",
       "        <td id=\"T_ff6c9702_bbff_11ec_944a_80913334c23arow11_col2\" class=\"data row11 col2\" >10377</td> \n",
       "    </tr>    <tr> \n",
       "        <th id=\"T_ff6c9702_bbff_11ec_944a_80913334c23alevel0_row12\" class=\"row_heading level0 row12\" >vacation</th> \n",
       "        <td id=\"T_ff6c9702_bbff_11ec_944a_80913334c23arow12_col0\" class=\"data row12 col0\" >402</td> \n",
       "        <td id=\"T_ff6c9702_bbff_11ec_944a_80913334c23arow12_col1\" class=\"data row12 col1\" >4334</td> \n",
       "        <td id=\"T_ff6c9702_bbff_11ec_944a_80913334c23arow12_col2\" class=\"data row12 col2\" >4736</td> \n",
       "    </tr>    <tr> \n",
       "        <th id=\"T_ff6c9702_bbff_11ec_944a_80913334c23alevel0_row13\" class=\"row_heading level0 row13\" >wedding</th> \n",
       "        <td id=\"T_ff6c9702_bbff_11ec_944a_80913334c23arow13_col0\" class=\"data row13 col0\" >289</td> \n",
       "        <td id=\"T_ff6c9702_bbff_11ec_944a_80913334c23arow13_col1\" class=\"data row13 col1\" >2058</td> \n",
       "        <td id=\"T_ff6c9702_bbff_11ec_944a_80913334c23arow13_col2\" class=\"data row13 col2\" >2347</td> \n",
       "    </tr>    <tr> \n",
       "        <th id=\"T_ff6c9702_bbff_11ec_944a_80913334c23alevel0_row14\" class=\"row_heading level0 row14\" >All</th> \n",
       "        <td id=\"T_ff6c9702_bbff_11ec_944a_80913334c23arow14_col0\" class=\"data row14 col0\" >67429</td> \n",
       "        <td id=\"T_ff6c9702_bbff_11ec_944a_80913334c23arow14_col1\" class=\"data row14 col1\" >819950</td> \n",
       "        <td id=\"T_ff6c9702_bbff_11ec_944a_80913334c23arow14_col2\" class=\"data row14 col2\" >887379</td> \n",
       "    </tr></tbody> \n",
       "</table> "
      ],
      "text/plain": [
       "<pandas.io.formats.style.Styler at 0x1efd33880b8>"
      ]
     },
     "execution_count": 35,
     "metadata": {},
     "output_type": "execute_result"
    }
   ],
   "source": [
    "pd.crosstab(df.purpose,df.loan_condition,margins=True).style.background_gradient(cmap='summer_r')"
   ]
  },
  {
   "cell_type": "code",
   "execution_count": 36,
   "metadata": {},
   "outputs": [
    {
     "name": "stdout",
     "output_type": "stream",
     "text": [
      "Number of default and non-default\n",
      " target                   0      1\n",
      "purpose                          \n",
      "car                   8267    596\n",
      "credit_card         194427  11755\n",
      "debt_consolidation  482607  41608\n",
      "educational            335     88\n",
      "home_improvement     48276   3553\n",
      "house                 3290    417\n",
      "major_purchase       15983   1294\n",
      "medical               7736    804\n",
      "moving                4807    607\n",
      "other                38731   4163\n",
      "renewable_energy       503     72\n",
      "small_business        8596   1781\n",
      "vacation              4334    402\n",
      "wedding               2058    289\n",
      "\n",
      "Percent of default and non-default per attribute\n",
      "                purpose         0         1\n",
      "0                  car  0.932754  0.067246\n",
      "1          credit_card  0.942987  0.057013\n",
      "2   debt_consolidation  0.920628  0.079372\n",
      "3          educational  0.791962  0.208038\n",
      "4     home_improvement  0.931448  0.068552\n",
      "5                house  0.887510  0.112490\n",
      "6       major_purchase  0.925103  0.074897\n",
      "7              medical  0.905855  0.094145\n",
      "8               moving  0.887883  0.112117\n",
      "9                other  0.902947  0.097053\n",
      "10    renewable_energy  0.874783  0.125217\n",
      "11      small_business  0.828370  0.171630\n",
      "12            vacation  0.915118  0.084882\n",
      "13             wedding  0.876864  0.123136\n"
     ]
    }
   ],
   "source": [
    "feat_target('purpose',df.purpose)"
   ]
  },
  {
   "cell_type": "code",
   "execution_count": 37,
   "metadata": {},
   "outputs": [
    {
     "data": {
      "image/png": "[encoded data removed]",
      "text/plain": [
       "<Figure size 864x432 with 2 Axes>"
      ]
     },
     "metadata": {
      "needs_background": "light"
     },
     "output_type": "display_data"
    }
   ],
   "source": [
    "plot_stats('purpose',True,True)"
   ]
  },
  {
   "cell_type": "markdown",
   "metadata": {},
   "source": [
    "There are 14 different reasons (including other options) customers apply for a loan, in which customers apply with the most for the purpose of debt consolidation (Up to 59% of the total customers). Next, Credit Card is also the purpose of many customers to register (accounting for 23.23% of customers).\n",
    "The two purposes that customers mention the least are renewable energy (0.065%) and educational (0.047%).\n",
    "Although the fewest people borrow money for educational spending, the percentage of bad loans is the largest (0.2%), which is much larger than for debt consolidation borrowers (although the top number of borrowers - more 59% but Bad Loan rate is only 0.08%).\n",
    "Bad Loan rate ranks second when customers borrow for small businesses (0.17%), it is possible to hypothesize that the business is not profitable, difficult times => high Bad Loan rate (considering the loan purpose with five years). get a loan).\n",
    "Customers who use credit cards have the lowest Bad Loan rate (0.06%), because when issuing a credit card the bank has managed how much monthly income, how much income they can open an account with much => lowest Bad Loan rate.\n"
   ]
  },
  {
   "cell_type": "markdown",
   "metadata": {},
   "source": [
    "# Interest payments - Interest rate"
   ]
  },
  {
   "cell_type": "code",
   "execution_count": 38,
   "metadata": {},
   "outputs": [
    {
     "name": "stdout",
     "output_type": "stream",
     "text": [
      "Count\n",
      " Low     465316\n",
      "High    422063\n",
      "Name: interest_payments, dtype: int64\n",
      "\n",
      "Percent\n",
      " Low     52.437121\n",
      "High    47.562879\n",
      "Name: interest_payments, dtype: float64\n"
     ]
    }
   ],
   "source": [
    "info_feature(df.interest_payments)"
   ]
  },
  {
   "cell_type": "code",
   "execution_count": 39,
   "metadata": {},
   "outputs": [
    {
     "name": "stdout",
     "output_type": "stream",
     "text": [
      "Number of default and non-default\n",
      " target                  0      1\n",
      "interest_payments               \n",
      "High               373491  48572\n",
      "Low                446459  18857\n",
      "\n",
      "Percent of default and non-default per attribute\n",
      "   interest_payments         0         1\n",
      "0              High  0.884918  0.115082\n",
      "1               Low  0.959475  0.040525\n"
     ]
    }
   ],
   "source": [
    "feat_target('interest_payments',df.interest_payments)"
   ]
  },
  {
   "cell_type": "code",
   "execution_count": 40,
   "metadata": {},
   "outputs": [
    {
     "data": {
      "image/png": "[encoded data removed]",
      "text/plain": [
       "<Figure size 864x432 with 2 Axes>"
      ]
     },
     "metadata": {
      "needs_background": "light"
     },
     "output_type": "display_data"
    }
   ],
   "source": [
    "plot_stats('interest_payments')"
   ]
  },
  {
   "cell_type": "markdown",
   "metadata": {},
   "source": [
    "The number of customers borrowing with high and low interest rates is not much different.\n",
    "But the Bad Loan rate of borrowers with high interest rates is much higher (0.11) than customers with low interest rates (0.04) (This is reasonable, because when borrowing with high interest rates, the amount must be pay a lot more => customers can't afford to pay => Bad Loan rate is high).\n"
   ]
  },
  {
   "cell_type": "code",
   "execution_count": 41,
   "metadata": {},
   "outputs": [
    {
     "data": {
      "text/plain": [
       "count    887379.000000\n",
       "mean         13.246740\n",
       "std           4.381867\n",
       "min           5.320000\n",
       "25%           9.990000\n",
       "50%          12.990000\n",
       "75%          16.200000\n",
       "max          28.990000\n",
       "Name: interest_rate, dtype: float64"
      ]
     },
     "execution_count": 41,
     "metadata": {},
     "output_type": "execute_result"
    }
   ],
   "source": [
    "df.interest_rate.describe()"
   ]
  },
  {
   "cell_type": "code",
   "execution_count": 42,
   "metadata": {},
   "outputs": [
    {
     "name": "stdout",
     "output_type": "stream",
     "text": [
      "Number of default and non-default\n",
      " target              0      1\n",
      "interest_rate               \n",
      "(5.32, 13.21]  436455  18774\n",
      "(13.21, 21.1]  340853  40213\n",
      "(21.1, 28.99]   33012   8421\n",
      "\n",
      "Percent of default and non-default per attribute\n",
      "    interest_rate         0         1\n",
      "0  (5.32, 13.21]  0.958759  0.041241\n",
      "1  (13.21, 21.1]  0.894472  0.105528\n",
      "2  (21.1, 28.99]  0.796756  0.203244\n"
     ]
    },
    {
     "data": {
      "image/png": "[encoded data removed]",
      "text/plain": [
       "<Figure size 864x432 with 2 Axes>"
      ]
     },
     "metadata": {
      "needs_background": "light"
     },
     "output_type": "display_data"
    }
   ],
   "source": [
    "#Tính phần interest_rate thuộc cao, thấp.\n",
    "bin_('interest_rate', 4)\n",
    "feat_target('interest_rate', df.interest_rate)\n",
    "plot_stats('interest_rate')"
   ]
  },
  {
   "cell_type": "code",
   "execution_count": 43,
   "metadata": {},
   "outputs": [
    {
     "name": "stdout",
     "output_type": "stream",
     "text": [
      "Count\n",
      " (5.32, 13.21]    455229\n",
      "(13.21, 21.1]    381066\n",
      "(21.1, 28.99]     41433\n",
      "Name: interest_rate, dtype: int64\n",
      "\n",
      "Percent\n",
      " (5.32, 13.21]    51.300403\n",
      "(13.21, 21.1]    42.942869\n",
      "(21.1, 28.99]     4.669144\n",
      "Name: interest_rate, dtype: float64\n"
     ]
    }
   ],
   "source": [
    "info_feature(df.interest_rate)"
   ]
  },
  {
   "cell_type": "markdown",
   "metadata": {},
   "source": [
    "Interest_rate Low: 5.32 - < 13.21\n",
    "Interest_rate High: > 13.21 - 28.99"
   ]
  },
  {
   "cell_type": "markdown",
   "metadata": {},
   "source": [
    "# Grade"
   ]
  },
  {
   "cell_type": "code",
   "execution_count": 44,
   "metadata": {},
   "outputs": [
    {
     "name": "stdout",
     "output_type": "stream",
     "text": [
      "Count\n",
      " B    254535\n",
      "C    245860\n",
      "A    148202\n",
      "D    139542\n",
      "E     70705\n",
      "F     23046\n",
      "G      5489\n",
      "Name: grade, dtype: int64\n",
      "\n",
      "Percent\n",
      " B    28.683911\n",
      "C    27.706313\n",
      "A    16.701094\n",
      "D    15.725186\n",
      "E     7.967847\n",
      "F     2.597086\n",
      "G     0.618563\n",
      "Name: grade, dtype: float64\n"
     ]
    }
   ],
   "source": [
    "info_feature(df.grade)"
   ]
  },
  {
   "cell_type": "code",
   "execution_count": 45,
   "metadata": {},
   "outputs": [
    {
     "name": "stdout",
     "output_type": "stream",
     "text": [
      "Number of default and non-default\n",
      " target       0      1\n",
      "grade                \n",
      "A       144539   3663\n",
      "B       241079  13456\n",
      "C       226806  19054\n",
      "D       123683  15859\n",
      "E        60960   9745\n",
      "F        18663   4383\n",
      "G         4220   1269\n",
      "\n",
      "Percent of default and non-default per attribute\n",
      "   grade         0         1\n",
      "0     A  0.975284  0.024716\n",
      "1     B  0.947135  0.052865\n",
      "2     C  0.922501  0.077499\n",
      "3     D  0.886350  0.113650\n",
      "4     E  0.862174  0.137826\n",
      "5     F  0.809815  0.190185\n",
      "6     G  0.768810  0.231190\n"
     ]
    }
   ],
   "source": [
    "feat_target('grade', df.grade)"
   ]
  },
  {
   "cell_type": "code",
   "execution_count": 46,
   "metadata": {},
   "outputs": [
    {
     "data": {
      "image/png": "[encoded data removed]",
      "text/plain": [
       "<Figure size 864x432 with 2 Axes>"
      ]
     },
     "metadata": {
      "needs_background": "light"
     },
     "output_type": "display_data"
    }
   ],
   "source": [
    "plot_stats('grade')"
   ]
  },
  {
   "cell_type": "markdown",
   "metadata": {},
   "source": [
    "Customers are mainly in Grade B (28.68%), and Grade C (27%), customers of Grade G and F are very few (accounting for 3%).\n",
    "Looking at the chart of Bad Loan rate of customers in different grades follows the trend: the higher the customer rank, the lower the rate of Bad Loan. (Grade A Bad Loan rate: 0.024%, Grade G Bad Loan rate: 0.23%).\n"
   ]
  },
  {
   "cell_type": "markdown",
   "metadata": {},
   "source": [
    "# Loan"
   ]
  },
  {
   "cell_type": "code",
   "execution_count": 64,
   "metadata": {},
   "outputs": [
    {
     "data": {
      "text/plain": [
       "count    887379.000000\n",
       "mean      14755.264605\n",
       "std        8435.455601\n",
       "min         500.000000\n",
       "25%        8000.000000\n",
       "50%       13000.000000\n",
       "75%       20000.000000\n",
       "max       35000.000000\n",
       "Name: loan_amount, dtype: float64"
      ]
     },
     "execution_count": 64,
     "metadata": {},
     "output_type": "execute_result"
    }
   ],
   "source": [
    "df.loan_amount.describe()"
   ]
  },
  {
   "cell_type": "code",
   "execution_count": 65,
   "metadata": {},
   "outputs": [
    {
     "data": {
      "text/plain": [
       "<matplotlib.axes._subplots.AxesSubplot at 0x1efd43aa908>"
      ]
     },
     "execution_count": 65,
     "metadata": {},
     "output_type": "execute_result"
    },
    {
     "data": {
      "image/png": "[encoded data removed]",
      "text/plain": [
       "<Figure size 432x288 with 1 Axes>"
      ]
     },
     "metadata": {
      "needs_background": "light"
     },
     "output_type": "display_data"
    }
   ],
   "source": [
    "outlier(df.loan_amount)"
   ]
  },
  {
   "cell_type": "markdown",
   "metadata": {},
   "source": [
    "# Total payment"
   ]
  },
  {
   "cell_type": "code",
   "execution_count": 47,
   "metadata": {},
   "outputs": [
    {
     "data": {
      "text/plain": [
       "count    887379.000000\n",
       "mean       7558.826684\n",
       "std        7871.243336\n",
       "min           0.000000\n",
       "25%        1914.590000\n",
       "50%        4894.999117\n",
       "75%       10616.814230\n",
       "max       57777.579870\n",
       "Name: total_pymnt, dtype: float64"
      ]
     },
     "execution_count": 47,
     "metadata": {},
     "output_type": "execute_result"
    }
   ],
   "source": [
    "df.total_pymnt.describe()"
   ]
  },
  {
   "cell_type": "code",
   "execution_count": 48,
   "metadata": {},
   "outputs": [
    {
     "name": "stderr",
     "output_type": "stream",
     "text": [
      "C:\\Users\\Admin\\Anaconda3\\lib\\site-packages\\scipy\\stats\\stats.py:1713: FutureWarning: Using a non-tuple sequence for multidimensional indexing is deprecated; use `arr[tuple(seq)]` instead of `arr[seq]`. In the future this will be interpreted as an array index, `arr[np.array(seq)]`, which will result either in an error or a different result.\n",
      "  return np.add.reduce(sorted[indexer] * weights, axis=axis) / sumval\n"
     ]
    },
    {
     "data": {
      "image/png": "[encoded data removed]",
      "text/plain": [
       "<Figure size 1296x576 with 2 Axes>"
      ]
     },
     "metadata": {
      "needs_background": "light"
     },
     "output_type": "display_data"
    }
   ],
   "source": [
    "f,ax=plt.subplots(1,2,figsize=(18,8))\n",
    "sns.violinplot(\"total_pymnt\",\"term\", hue=\"loan_condition_cat\", data=df,split=True,ax=ax[0])\n",
    "ax[0].set_title('total_pymnt and term vs Loan_condition')\n",
    "ax[0].set_yticks(range(0,1500,300))\n",
    "sns.violinplot(\"term\",\"installment\", hue=\"loan_condition_cat\", data=df,split=True,ax=ax[1])\n",
    "ax[1].set_title('Term and installment vs Loan_condition')\n",
    "ax[1].set_yticks(range(0,1500,300))\n",
    "plt.show()"
   ]
  },
  {
   "cell_type": "code",
   "execution_count": 67,
   "metadata": {},
   "outputs": [
    {
     "data": {
      "text/plain": [
       "<matplotlib.axes._subplots.AxesSubplot at 0x1ef808e7fd0>"
      ]
     },
     "execution_count": 67,
     "metadata": {},
     "output_type": "execute_result"
    },
    {
     "data": {
      "image/png": "[encoded data removed]",
      "text/plain": [
       "<Figure size 432x288 with 1 Axes>"
      ]
     },
     "metadata": {
      "needs_background": "light"
     },
     "output_type": "display_data"
    }
   ],
   "source": [
    "outlier(df.total_pymnt)"
   ]
  },
  {
   "cell_type": "markdown",
   "metadata": {},
   "source": [
    "# Total_rec_prncp"
   ]
  },
  {
   "cell_type": "code",
   "execution_count": 49,
   "metadata": {},
   "outputs": [
    {
     "data": {
      "text/plain": [
       "count    887379.000000\n",
       "mean       5757.706424\n",
       "std        6625.441046\n",
       "min           0.000000\n",
       "25%        1200.570000\n",
       "50%        3215.320000\n",
       "75%        8000.000000\n",
       "max       35000.030000\n",
       "Name: total_rec_prncp, dtype: float64"
      ]
     },
     "execution_count": 49,
     "metadata": {},
     "output_type": "execute_result"
    }
   ],
   "source": [
    "df.total_rec_prncp.describe()"
   ]
  },
  {
   "cell_type": "code",
   "execution_count": 56,
   "metadata": {},
   "outputs": [
    {
     "data": {
      "text/plain": [
       "<matplotlib.axes._subplots.AxesSubplot at 0x1efd375e780>"
      ]
     },
     "execution_count": 56,
     "metadata": {},
     "output_type": "execute_result"
    },
    {
     "data": {
      "image/png": "[encoded data removed]",
      "text/plain": [
       "<Figure size 432x288 with 1 Axes>"
      ]
     },
     "metadata": {
      "needs_background": "light"
     },
     "output_type": "display_data"
    }
   ],
   "source": [
    "outlier(df.total_rec_prncp)"
   ]
  },
  {
   "cell_type": "markdown",
   "metadata": {},
   "source": [
    "# Recoveries"
   ]
  },
  {
   "cell_type": "code",
   "execution_count": 50,
   "metadata": {},
   "outputs": [
    {
     "data": {
      "text/plain": [
       "count    887379.000000\n",
       "mean         45.919243\n",
       "std         409.693874\n",
       "min           0.000000\n",
       "25%           0.000000\n",
       "50%           0.000000\n",
       "75%           0.000000\n",
       "max       33520.270000\n",
       "Name: recoveries, dtype: float64"
      ]
     },
     "execution_count": 50,
     "metadata": {},
     "output_type": "execute_result"
    }
   ],
   "source": [
    "df.recoveries.describe()"
   ]
  },
  {
   "cell_type": "code",
   "execution_count": 57,
   "metadata": {},
   "outputs": [
    {
     "data": {
      "text/plain": [
       "<matplotlib.axes._subplots.AxesSubplot at 0x1efd37fa1d0>"
      ]
     },
     "execution_count": 57,
     "metadata": {},
     "output_type": "execute_result"
    },
    {
     "data": {
      "image/png": "[encoded data removed]",
      "text/plain": [
       "<Figure size 432x288 with 1 Axes>"
      ]
     },
     "metadata": {
      "needs_background": "light"
     },
     "output_type": "display_data"
    }
   ],
   "source": [
    "outlier(df.recoveries)"
   ]
  },
  {
   "cell_type": "markdown",
   "metadata": {},
   "source": [
    "# Installment (số tiền trả góp hàng tháng)"
   ]
  },
  {
   "cell_type": "code",
   "execution_count": 51,
   "metadata": {},
   "outputs": [
    {
     "data": {
      "text/plain": [
       "count    887379.000000\n",
       "mean        436.717127\n",
       "std         244.186593\n",
       "min          15.670000\n",
       "25%         260.705000\n",
       "50%         382.550000\n",
       "75%         572.600000\n",
       "max        1445.460000\n",
       "Name: installment, dtype: float64"
      ]
     },
     "execution_count": 51,
     "metadata": {},
     "output_type": "execute_result"
    }
   ],
   "source": [
    "df.installment.describe()"
   ]
  },
  {
   "cell_type": "code",
   "execution_count": 52,
   "metadata": {},
   "outputs": [
    {
     "name": "stdout",
     "output_type": "stream",
     "text": [
      "Number of default and non-default\n",
      " target                   0      1\n",
      "installment                      \n",
      "(15.67, 492.267]    540278  42934\n",
      "(492.267, 968.863]  250295  21667\n",
      "(968.863, 1445.46]   29376   2828\n",
      "\n",
      "Percent of default and non-default per attribute\n",
      "           installment         0         1\n",
      "0    (15.67, 492.267]  0.926384  0.073616\n",
      "1  (492.267, 968.863]  0.920331  0.079669\n",
      "2  (968.863, 1445.46]  0.912185  0.087815\n"
     ]
    },
    {
     "data": {
      "image/png": "[encoded data removed]",
      "text/plain": [
       "<Figure size 864x432 with 2 Axes>"
      ]
     },
     "metadata": {
      "needs_background": "light"
     },
     "output_type": "display_data"
    }
   ],
   "source": [
    "bin_('installment',4)\n",
    "feat_target('installment',df.installment)\n",
    "plot_stats('installment')\n"
   ]
  },
  {
   "cell_type": "markdown",
   "metadata": {},
   "source": [
    "Looking at the chart, the Bad Loan rate tends to: with the higher the monthly installment amount, the higher the Bad Loan rate (this is consistent with interest rate: high and low interest rates)."
   ]
  },
  {
   "cell_type": "markdown",
   "metadata": {},
   "source": [
    "# Region"
   ]
  },
  {
   "cell_type": "code",
   "execution_count": 53,
   "metadata": {},
   "outputs": [
    {
     "name": "stdout",
     "output_type": "stream",
     "text": [
      "Count\n",
      " leinster        214646\n",
      "ulster          208731\n",
      "Northern-Irl    204399\n",
      "cannught        155029\n",
      "munster         104574\n",
      "Name: region, dtype: int64\n",
      "\n",
      "Percent\n",
      " leinster        24.188763\n",
      "ulster          23.522193\n",
      "Northern-Irl    23.034014\n",
      "cannught        17.470438\n",
      "munster         11.784593\n",
      "Name: region, dtype: float64\n"
     ]
    }
   ],
   "source": [
    "info_feature(df.region)"
   ]
  },
  {
   "cell_type": "code",
   "execution_count": 54,
   "metadata": {},
   "outputs": [
    {
     "name": "stdout",
     "output_type": "stream",
     "text": [
      "Number of default and non-default\n",
      " target             0      1\n",
      "region                     \n",
      "Northern-Irl  188266  16133\n",
      "cannught      144251  10778\n",
      "leinster      197967  16679\n",
      "munster        97167   7407\n",
      "ulster        192299  16432\n",
      "\n",
      "Percent of default and non-default per attribute\n",
      "          region         0         1\n",
      "0  Northern-Irl  0.921071  0.078929\n",
      "1      cannught  0.930478  0.069522\n",
      "2      leinster  0.922295  0.077705\n",
      "3       munster  0.929170  0.070830\n",
      "4        ulster  0.921277  0.078723\n"
     ]
    },
    {
     "data": {
      "image/png": "[encoded data removed]",
      "text/plain": [
       "<Figure size 864x432 with 2 Axes>"
      ]
     },
     "metadata": {
      "needs_background": "light"
     },
     "output_type": "display_data"
    }
   ],
   "source": [
    "feat_target('region', df.region)\n",
    "plot_stats('region')"
   ]
  },
  {
   "cell_type": "markdown",
   "metadata": {},
   "source": [
    "Customers are almost evenly distributed in 5 regions: Leinster, Ulster, Northern-Iri, Cannught, Munster. The rate of Bad Loan in these areas is almost the same and is very small (<0.08%). Therefore, the living area does not affect the Debt Status of the customer."
   ]
  },
  {
   "cell_type": "code",
   "execution_count": null,
   "metadata": {},
   "outputs": [],
   "source": []
  }
 ],
 "metadata": {
  "kernelspec": {
   "display_name": "Python 3",
   "language": "python",
   "name": "python3"
  },
  "language_info": {
   "codemirror_mode": {
    "name": "ipython",
    "version": 3
   },
   "file_extension": ".py",
   "mimetype": "text/x-python",
   "name": "python",
   "nbconvert_exporter": "python",
   "pygments_lexer": "ipython3",
   "version": "3.7.1"
  }
 },
 "nbformat": 4,
 "nbformat_minor": 2
}
